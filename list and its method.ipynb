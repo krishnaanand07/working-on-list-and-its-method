{
 "cells": [
  {
   "cell_type": "code",
   "execution_count": null,
   "id": "f7042686-d03b-49c6-9f44-be450c827ad1",
   "metadata": {},
   "outputs": [],
   "source": [
    "# binary number system conversion and list"
   ]
  },
  {
   "cell_type": "code",
   "execution_count": 2,
   "id": "1bd4f25c-c472-4cb6-a377-878291fbecdb",
   "metadata": {},
   "outputs": [
    {
     "data": {
      "text/plain": [
       "'0b11001'"
      ]
     },
     "execution_count": 2,
     "metadata": {},
     "output_type": "execute_result"
    }
   ],
   "source": [
    "bin(25)"
   ]
  },
  {
   "cell_type": "code",
   "execution_count": 4,
   "id": "16916fe5-2a0f-461d-9e7c-9c185497da36",
   "metadata": {},
   "outputs": [
    {
     "data": {
      "text/plain": [
       "'0b100011'"
      ]
     },
     "execution_count": 4,
     "metadata": {},
     "output_type": "execute_result"
    }
   ],
   "source": [
    "bin(35)"
   ]
  },
  {
   "cell_type": "code",
   "execution_count": 6,
   "id": "3ddde750-c4fc-4d58-b4c6-69ee0ca911e6",
   "metadata": {},
   "outputs": [
    {
     "data": {
      "text/plain": [
       "35"
      ]
     },
     "execution_count": 6,
     "metadata": {},
     "output_type": "execute_result"
    }
   ],
   "source": [
    "int(0b100011)"
   ]
  },
  {
   "cell_type": "code",
   "execution_count": 8,
   "id": "a778288a-1225-4054-886c-1d2e38795f6d",
   "metadata": {},
   "outputs": [
    {
     "data": {
      "text/plain": [
       "'0o31'"
      ]
     },
     "execution_count": 8,
     "metadata": {},
     "output_type": "execute_result"
    }
   ],
   "source": [
    "oct(25)"
   ]
  },
  {
   "cell_type": "code",
   "execution_count": 10,
   "id": "af1f82ea-9c88-484f-bd6a-4b805c37ce61",
   "metadata": {},
   "outputs": [
    {
     "data": {
      "text/plain": [
       "25"
      ]
     },
     "execution_count": 10,
     "metadata": {},
     "output_type": "execute_result"
    }
   ],
   "source": [
    "int(0o31)"
   ]
  },
  {
   "cell_type": "code",
   "execution_count": 12,
   "id": "b8e0ff41-6550-4776-b165-32be9fbefda2",
   "metadata": {},
   "outputs": [
    {
     "data": {
      "text/plain": [
       "'0b111'"
      ]
     },
     "execution_count": 12,
     "metadata": {},
     "output_type": "execute_result"
    }
   ],
   "source": [
    "bin(7)"
   ]
  },
  {
   "cell_type": "code",
   "execution_count": 14,
   "id": "47eedf9b-7777-427b-b6c5-d45ac0770663",
   "metadata": {},
   "outputs": [
    {
     "data": {
      "text/plain": [
       "'0x100'"
      ]
     },
     "execution_count": 14,
     "metadata": {},
     "output_type": "execute_result"
    }
   ],
   "source": [
    "hex(256)"
   ]
  },
  {
   "cell_type": "code",
   "execution_count": 16,
   "id": "c13f3a95-a000-42ed-8bd5-3752932e1185",
   "metadata": {},
   "outputs": [
    {
     "data": {
      "text/plain": [
       "10"
      ]
     },
     "execution_count": 16,
     "metadata": {},
     "output_type": "execute_result"
    }
   ],
   "source": [
    "0xa"
   ]
  },
  {
   "cell_type": "code",
   "execution_count": 18,
   "id": "6a26968e-2f9f-4457-b64e-b69c77a0639e",
   "metadata": {},
   "outputs": [
    {
     "data": {
      "text/plain": [
       "25"
      ]
     },
     "execution_count": 18,
     "metadata": {},
     "output_type": "execute_result"
    }
   ],
   "source": [
    "0x19"
   ]
  },
  {
   "cell_type": "code",
   "execution_count": 20,
   "id": "a7ac9a51-af5a-4bc6-a2f0-19ad947bcaf1",
   "metadata": {},
   "outputs": [
    {
     "data": {
      "text/plain": [
       "21"
      ]
     },
     "execution_count": 20,
     "metadata": {},
     "output_type": "execute_result"
    }
   ],
   "source": [
    "0x15"
   ]
  },
  {
   "cell_type": "markdown",
   "id": "3a38ff68-25f3-455d-a491-83b98043466d",
   "metadata": {},
   "source": [
    "# list method"
   ]
  },
  {
   "cell_type": "code",
   "execution_count": null,
   "id": "4a2d351e-a1c8-464a-87d8-0a420b9a5105",
   "metadata": {},
   "outputs": [],
   "source": [
    "# creation of list"
   ]
  },
  {
   "cell_type": "code",
   "execution_count": 6,
   "id": "c899cd35-99b6-46de-a19b-ef7b3645e0e2",
   "metadata": {},
   "outputs": [],
   "source": [
    "l2=[]"
   ]
  },
  {
   "cell_type": "code",
   "execution_count": null,
   "id": "4f3c9da2-8a07-455a-aac6-1909c21b3f51",
   "metadata": {},
   "outputs": [],
   "source": [
    "# append():-append() is a method used to add an element to the end of a list."
   ]
  },
  {
   "cell_type": "code",
   "execution_count": 7,
   "id": "10c2399a-cc43-4cdd-baaa-a5de53ca062a",
   "metadata": {},
   "outputs": [],
   "source": [
    "l2.append(70)\n",
    "l2.append(2.3)\n",
    "l2.append(True)\n",
    "l2.append('1+2j')\n",
    "l2.append([1,2,3])\n",
    "l2.append(70)\n"
   ]
  },
  {
   "cell_type": "code",
   "execution_count": 8,
   "id": "37ea776d-fe3e-474e-83fa-4c8c9e58c7f7",
   "metadata": {},
   "outputs": [],
   "source": [
    "l=[]"
   ]
  },
  {
   "cell_type": "code",
   "execution_count": 15,
   "id": "dbba6b99-42b4-4672-8be3-4e0a7762fdca",
   "metadata": {},
   "outputs": [],
   "source": [
    "l.append(40)\n",
    "l.append(30)\n",
    "l.append(20)\n",
    "l.append(10)\n",
    "l.append(40)\n",
    "l.append(30)\n",
    "l.append(20)\n"
   ]
  },
  {
   "cell_type": "code",
   "execution_count": 10,
   "id": "3e9ba2d9-e633-4f73-97a8-94c43fbda9c9",
   "metadata": {},
   "outputs": [
    {
     "data": {
      "text/plain": [
       "[40, 30, 20, 10, 40, 30, 20]"
      ]
     },
     "execution_count": 10,
     "metadata": {},
     "output_type": "execute_result"
    }
   ],
   "source": [
    "l\n"
   ]
  },
  {
   "cell_type": "code",
   "execution_count": 11,
   "id": "9bf8ffb1-6a4e-4796-b9e3-e8d6175697c0",
   "metadata": {},
   "outputs": [
    {
     "data": {
      "text/plain": [
       "[70, 2.3, True, '1+2j', [1, 2, 3], 70]"
      ]
     },
     "execution_count": 11,
     "metadata": {},
     "output_type": "execute_result"
    }
   ],
   "source": [
    "l2"
   ]
  },
  {
   "cell_type": "code",
   "execution_count": null,
   "id": "88773f79-7e5f-4063-ba12-4cc53715d21e",
   "metadata": {},
   "outputs": [],
   "source": [
    "# clear() method in Python is used to remove all elements from a list,"
   ]
  },
  {
   "cell_type": "code",
   "execution_count": 17,
   "id": "80678add-4c78-42dc-a625-fb4c119fd93c",
   "metadata": {},
   "outputs": [],
   "source": [
    "l.clear()"
   ]
  },
  {
   "cell_type": "code",
   "execution_count": 18,
   "id": "cef2b2fa-44f2-49c8-8ef4-4e744e9396ef",
   "metadata": {},
   "outputs": [
    {
     "data": {
      "text/plain": [
       "[]"
      ]
     },
     "execution_count": 18,
     "metadata": {},
     "output_type": "execute_result"
    }
   ],
   "source": [
    "l"
   ]
  },
  {
   "cell_type": "code",
   "execution_count": 19,
   "id": "97a0841a-6986-473c-ac64-4a395195432a",
   "metadata": {},
   "outputs": [],
   "source": [
    "l.append(40)\n",
    "l.append(30)\n",
    "l.append(20)\n",
    "l.append(10)\n",
    "l.append(40)\n",
    "l.append(30)\n",
    "l.append(20)\n"
   ]
  },
  {
   "cell_type": "code",
   "execution_count": null,
   "id": "492d123c-a47a-4955-aa76-120e0494e665",
   "metadata": {},
   "outputs": [],
   "source": [
    "# count():-The count() method in Python is used to count the number of occurrences of a specific element in a list, tuple, or string."
   ]
  },
  {
   "cell_type": "code",
   "execution_count": 20,
   "id": "c1260e72-daef-400f-89c6-b503571b5561",
   "metadata": {},
   "outputs": [
    {
     "data": {
      "text/plain": [
       "2"
      ]
     },
     "execution_count": 20,
     "metadata": {},
     "output_type": "execute_result"
    }
   ],
   "source": [
    "l.count(40)"
   ]
  },
  {
   "cell_type": "code",
   "execution_count": null,
   "id": "9e2c0f0e-99c4-4b69-b800-84e196a736b1",
   "metadata": {},
   "outputs": [],
   "source": [
    "# extend():-The extend() method in Python is used to add multiple elements from an iterable (such as a list, tuple, or set) to the end of a list"
   ]
  },
  {
   "cell_type": "code",
   "execution_count": 25,
   "id": "bb0ac8ad-724d-4300-aaf4-9fc542d539fb",
   "metadata": {},
   "outputs": [],
   "source": [
    "l1.extend(l2)"
   ]
  },
  {
   "cell_type": "code",
   "execution_count": 26,
   "id": "674a4d09-b450-47a3-9fb5-6280bc83eeec",
   "metadata": {},
   "outputs": [
    {
     "data": {
      "text/plain": [
       "[70, 2.3, True, '1+2j', [1, 2, 3], 70]"
      ]
     },
     "execution_count": 26,
     "metadata": {},
     "output_type": "execute_result"
    }
   ],
   "source": [
    "l1"
   ]
  },
  {
   "cell_type": "code",
   "execution_count": null,
   "id": "fc0488a4-28d0-445a-b911-a3691847b19c",
   "metadata": {},
   "outputs": [],
   "source": [
    "# index():-The index() method in Python is used to find the first occurrence of a specified value in a list"
   ]
  },
  {
   "cell_type": "code",
   "execution_count": 29,
   "id": "ea1ed54d-d37c-4f2a-a488-28f23ef6742e",
   "metadata": {},
   "outputs": [
    {
     "data": {
      "text/plain": [
       "1"
      ]
     },
     "execution_count": 29,
     "metadata": {},
     "output_type": "execute_result"
    }
   ],
   "source": [
    "l1.index(2.3)"
   ]
  },
  {
   "cell_type": "code",
   "execution_count": null,
   "id": "b1463467-0e63-4e11-a1f8-670caf035872",
   "metadata": {},
   "outputs": [],
   "source": [
    "# insert():-The insert() method in Python is used to insert an element at a specified position in a list. It modifies the list in place."
   ]
  },
  {
   "cell_type": "code",
   "execution_count": 30,
   "id": "35e59850-6b52-496e-8d4c-047fabddc8b5",
   "metadata": {},
   "outputs": [],
   "source": [
    "l1.insert(4,100)"
   ]
  },
  {
   "cell_type": "code",
   "execution_count": 31,
   "id": "f5c5fc37-3ad6-40f4-b92f-e831666d9dab",
   "metadata": {},
   "outputs": [
    {
     "data": {
      "text/plain": [
       "[70, 2.3, True, '1+2j', 100, [1, 2, 3], 70]"
      ]
     },
     "execution_count": 31,
     "metadata": {},
     "output_type": "execute_result"
    }
   ],
   "source": [
    "l1"
   ]
  },
  {
   "cell_type": "code",
   "execution_count": null,
   "id": "611d72ef-d390-4436-a87b-00f713502cd8",
   "metadata": {},
   "outputs": [],
   "source": [
    "# pop():-The pop() method in Python is used to remove and return an element from a list at a specified index"
   ]
  },
  {
   "cell_type": "code",
   "execution_count": 33,
   "id": "3ad4b529-f88d-488a-a7cd-7308e78bc539",
   "metadata": {},
   "outputs": [
    {
     "data": {
      "text/plain": [
       "70"
      ]
     },
     "execution_count": 33,
     "metadata": {},
     "output_type": "execute_result"
    }
   ],
   "source": [
    "l1.pop()"
   ]
  },
  {
   "cell_type": "code",
   "execution_count": null,
   "id": "a7470b24-3acc-430a-a286-f900573661d1",
   "metadata": {},
   "outputs": [],
   "source": [
    "# remove():-The remove() method in Python is used to delete the first occurrence of a specified value \n",
    "# from a list. If the value is not found, it raises a ValueError'''"
   ]
  },
  {
   "cell_type": "code",
   "execution_count": 35,
   "id": "592bc25f-d62d-481c-bfd9-ef2fbbccf42d",
   "metadata": {},
   "outputs": [],
   "source": [
    "l1.remove([1,2,3])"
   ]
  },
  {
   "cell_type": "code",
   "execution_count": 36,
   "id": "26527e0a-dd05-4e5b-a182-89bce851c749",
   "metadata": {},
   "outputs": [
    {
     "data": {
      "text/plain": [
       "[70, 2.3, True, '1+2j', 100]"
      ]
     },
     "execution_count": 36,
     "metadata": {},
     "output_type": "execute_result"
    }
   ],
   "source": [
    "l1"
   ]
  },
  {
   "cell_type": "code",
   "execution_count": null,
   "id": "4dfba037-e908-499a-9e13-fffa14cfa813",
   "metadata": {},
   "outputs": [],
   "source": [
    "# reverse():-The reverse() method in Python is used to reverse the elements of a list in place. \n",
    "# It modifies the original list and does not return a new list.\n",
    "\n"
   ]
  },
  {
   "cell_type": "code",
   "execution_count": 37,
   "id": "96db012c-6f82-4caa-a69a-f49f58c5d366",
   "metadata": {},
   "outputs": [],
   "source": [
    "l1.reverse()"
   ]
  },
  {
   "cell_type": "code",
   "execution_count": 38,
   "id": "bdfbbee9-3119-4217-8666-27eeaca14866",
   "metadata": {},
   "outputs": [
    {
     "data": {
      "text/plain": [
       "[100, '1+2j', True, 2.3, 70]"
      ]
     },
     "execution_count": 38,
     "metadata": {},
     "output_type": "execute_result"
    }
   ],
   "source": [
    "l1"
   ]
  },
  {
   "cell_type": "code",
   "execution_count": 40,
   "id": "163dd12e-ecd1-4957-885d-1be3cbb2e89f",
   "metadata": {},
   "outputs": [
    {
     "data": {
      "text/plain": [
       "[40, 30, 20, 10, 40, 30, 20]"
      ]
     },
     "execution_count": 40,
     "metadata": {},
     "output_type": "execute_result"
    }
   ],
   "source": [
    "l"
   ]
  },
  {
   "cell_type": "code",
   "execution_count": null,
   "id": "ec85b0c3-cc1b-40e1-892c-828d759cf101",
   "metadata": {},
   "outputs": [],
   "source": [
    "# sort():-The sort() method in Python is used to sort the elements of a list in place, either in ascending or descending order."
   ]
  },
  {
   "cell_type": "code",
   "execution_count": 41,
   "id": "836265ec-7a39-48a1-9637-447ea05fa7de",
   "metadata": {},
   "outputs": [],
   "source": [
    "l.sort()"
   ]
  },
  {
   "cell_type": "code",
   "execution_count": 42,
   "id": "069c07ce-0073-46cf-99a2-206e400e38c3",
   "metadata": {},
   "outputs": [
    {
     "data": {
      "text/plain": [
       "[10, 20, 20, 30, 30, 40, 40]"
      ]
     },
     "execution_count": 42,
     "metadata": {},
     "output_type": "execute_result"
    }
   ],
   "source": [
    "l"
   ]
  },
  {
   "cell_type": "code",
   "execution_count": null,
   "id": "d9978a32-c420-4b68-8f98-091259a01dc2",
   "metadata": {},
   "outputs": [],
   "source": []
  }
 ],
 "metadata": {
  "kernelspec": {
   "display_name": "Python 3 (ipykernel)",
   "language": "python",
   "name": "python3"
  },
  "language_info": {
   "codemirror_mode": {
    "name": "ipython",
    "version": 3
   },
   "file_extension": ".py",
   "mimetype": "text/x-python",
   "name": "python",
   "nbconvert_exporter": "python",
   "pygments_lexer": "ipython3",
   "version": "3.12.7"
  }
 },
 "nbformat": 4,
 "nbformat_minor": 5
}
